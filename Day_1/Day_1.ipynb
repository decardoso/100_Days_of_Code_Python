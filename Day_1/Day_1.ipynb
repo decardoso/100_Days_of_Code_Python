{
 "cells": [
  {
   "cell_type": "code",
   "execution_count": 3,
   "metadata": {},
   "outputs": [
    {
     "name": "stdout",
     "output_type": "stream",
     "text": [
      "Hello World!\n"
     ]
    }
   ],
   "source": [
    "# Função básica de impressão no Python\n",
    "# Fazendo a impressão de uma string\n",
    "print(\"Hello World!\")"
   ]
  },
  {
   "cell_type": "code",
   "execution_count": 17,
   "metadata": {},
   "outputs": [
    {
     "ename": "SyntaxError",
     "evalue": "EOL while scanning string literal (Temp/ipykernel_13020/619103198.py, line 3)",
     "output_type": "error",
     "traceback": [
      "\u001b[1;36m  File \u001b[1;32m\"C:\\Users\\55479\\AppData\\Local\\Temp/ipykernel_13020/619103198.py\"\u001b[1;36m, line \u001b[1;32m3\u001b[0m\n\u001b[1;33m    print(\"Hello World!)\u001b[0m\n\u001b[1;37m                        ^\u001b[0m\n\u001b[1;31mSyntaxError\u001b[0m\u001b[1;31m:\u001b[0m EOL while scanning string literal\n"
     ]
    }
   ],
   "source": [
    "# Simulando um erro de sintaxe\n",
    "# print(\"Hello World!\")\n",
    "print(\"Hello World!)"
   ]
  },
  {
   "cell_type": "code",
   "execution_count": 3,
   "metadata": {},
   "outputs": [
    {
     "name": "stdout",
     "output_type": "stream",
     "text": [
      "Observar que devem ser usados aspas simples e duplas combinadas:\n",
      "print(\"Hello World\")\n",
      "print('Hello World')\n"
     ]
    }
   ],
   "source": [
    "# Fazendo a impressão de trechos de código como strings:\n",
    "print(\"Observar que devem ser usados aspas simples e duplas combinadas:\")\n",
    "print('print(\"Hello World\")')\n",
    "print(\"print('Hello World')\")\n",
    "\n"
   ]
  },
  {
   "cell_type": "code",
   "execution_count": 4,
   "metadata": {},
   "outputs": [
    {
     "ename": "SyntaxError",
     "evalue": "invalid syntax (Temp/ipykernel_13020/668782392.py, line 3)",
     "output_type": "error",
     "traceback": [
      "\u001b[1;36m  File \u001b[1;32m\"C:\\Users\\55479\\AppData\\Local\\Temp/ipykernel_13020/668782392.py\"\u001b[1;36m, line \u001b[1;32m3\u001b[0m\n\u001b[1;33m    print('print('Hello World')') # Verificar que aqui não funciona!\u001b[0m\n\u001b[1;37m                  ^\u001b[0m\n\u001b[1;31mSyntaxError\u001b[0m\u001b[1;31m:\u001b[0m invalid syntax\n"
     ]
    }
   ],
   "source": [
    "# Fazendo a impressão de trechos de código como strings, cuidado ao usar nesta situações\n",
    "# duas vezes aspas simples ou duplas:\n",
    "print('print('Hello World')') # Verificar que aqui não funciona!\n",
    "print(\"print('Hello World')\")"
   ]
  },
  {
   "cell_type": "code",
   "execution_count": 6,
   "metadata": {},
   "outputs": [
    {
     "ename": "SyntaxError",
     "evalue": "invalid syntax (Temp/ipykernel_13020/868065795.py, line 3)",
     "output_type": "error",
     "traceback": [
      "\u001b[1;36m  File \u001b[1;32m\"C:\\Users\\55479\\AppData\\Local\\Temp/ipykernel_13020/868065795.py\"\u001b[1;36m, line \u001b[1;32m3\u001b[0m\n\u001b[1;33m    print(\"print(\"Hello World\")\") # Desta forma ta,bém não funciona.\u001b[0m\n\u001b[1;37m                  ^\u001b[0m\n\u001b[1;31mSyntaxError\u001b[0m\u001b[1;31m:\u001b[0m invalid syntax\n"
     ]
    }
   ],
   "source": [
    "# Fazendo a impressão de trechos de código como strings, cuidado ao usar nesta situações\n",
    "# duas vezes aspas simples ou duplas:\n",
    "print(\"print(\"Hello World\")\") # Desta forma ta,bém não funciona."
   ]
  },
  {
   "cell_type": "code",
   "execution_count": 10,
   "metadata": {},
   "outputs": [
    {
     "name": "stdout",
     "output_type": "stream",
     "text": [
      "Reptindo o 'print('Hello World!')' \n",
      "Hello World!\n",
      "Hello World!\n",
      "Hello World!\n",
      "Usando a opção '/n':\n",
      "Hello World!\n",
      "Hello World!\n",
      "Hello World!\n"
     ]
    }
   ],
   "source": [
    "# Para imprimir três vezes por exemplo o mesmo string temos algumas opções:\n",
    "\n",
    "# Digitando a mesma linha várias vezes:\n",
    "\n",
    "print(\"Reptindo o 'print('Hello World!')' \")\n",
    "print(\"Hello World!\")\n",
    "print(\"Hello World!\")\n",
    "print(\"Hello World!\")\n",
    "\n",
    "# Usando o \\n conforme o exemplo abaixo:\n",
    "print(\"Usando a opção '/n':\")\n",
    "print(\"Hello World!\\nHello World!\\nHello World!\")\n",
    "\n",
    "# \\ barra invertida é backslach em inglês.\n",
    "# / barra é forward slach em inglês."
   ]
  },
  {
   "cell_type": "code",
   "execution_count": 1,
   "metadata": {},
   "outputs": [
    {
     "name": "stdout",
     "output_type": "stream",
     "text": [
      "Hello David!!!\n",
      "Hello David !!!\n"
     ]
    }
   ],
   "source": [
    "# Combinado strings para impressão com o +:\n",
    "print(\"Hello\" + \" David\" + \"!!!\")\n",
    "print(\"Hello\" + \" \" +\"David\" + \" \" +\"!!!\")"
   ]
  },
  {
   "cell_type": "code",
   "execution_count": 16,
   "metadata": {},
   "outputs": [
    {
     "ename": "SyntaxError",
     "evalue": "EOL while scanning string literal (Temp/ipykernel_13020/3738181734.py, line 3)",
     "output_type": "error",
     "traceback": [
      "\u001b[1;36m  File \u001b[1;32m\"C:\\Users\\55479\\AppData\\Local\\Temp/ipykernel_13020/3738181734.py\"\u001b[1;36m, line \u001b[1;32m3\u001b[0m\n\u001b[1;33m    print(\"Hello\" + \" \" +\"David\" + \" \" +\"!!!)\u001b[0m\n\u001b[1;37m                                             ^\u001b[0m\n\u001b[1;31mSyntaxError\u001b[0m\u001b[1;31m:\u001b[0m EOL while scanning string literal\n"
     ]
    }
   ],
   "source": [
    "# Cuidando para não esquecer as \"\" ou '' podendo gerar erros de sintaxe.\n",
    "# O codigo abaixo vai gerar um erro de SyntaxError: EOL while scanning string literal\n",
    "print(\"Hello\" + \" \" +\"David\" + \" \" +\"!!!)"
   ]
  },
  {
   "cell_type": "code",
   "execution_count": 19,
   "metadata": {},
   "outputs": [
    {
     "ename": "IndentationError",
     "evalue": "unexpected indent (Temp/ipykernel_13020/1850621541.py, line 7)",
     "output_type": "error",
     "traceback": [
      "\u001b[1;36m  File \u001b[1;32m\"C:\\Users\\55479\\AppData\\Local\\Temp/ipykernel_13020/1850621541.py\"\u001b[1;36m, line \u001b[1;32m7\u001b[0m\n\u001b[1;33m    print(\"Hello David!\")\u001b[0m\n\u001b[1;37m    ^\u001b[0m\n\u001b[1;31mIndentationError\u001b[0m\u001b[1;31m:\u001b[0m unexpected indent\n"
     ]
    }
   ],
   "source": [
    "# No Python a identação é muito importante,\n",
    "# se não for realizada adequadamente o código pode não executar \n",
    "# ou executar de forma errada.\n",
    "\n",
    "# Executando o código abaixo provavelmente teremos um erro de\n",
    "# IndentationError: unexpected indent.\n",
    " print(\"Hello David!\")"
   ]
  },
  {
   "cell_type": "markdown",
   "metadata": {},
   "source": [
    "Muitas EPI possuem ferramentas para ajudar na programação, são ferramentar de ajuda, \n",
    "auto completar código e descrição das funcionalidades do que está sendo usado no código\n",
    "naquele momento.\n",
    "\n",
    "Um exemplo é o IntelliSense do Visual Studio Code.\n",
    "\n",
    "----------------------------------------------------------------------------------------------------------------------------\n",
    "\n",
    "IntelliSense no Visual Studio\n",
    "\n",
    "O IntelliSense é uma ajuda de preenchimento de código que inclui inúmeras funcionalidades: Listar Membros, Informações do Parâmetro, Informações Rápidas e Completar Palavra. Essas funcionalidades ajudam você a aprender mais sobre o código que está usando, a manter o acompanhamento dos parâmetros que está digitando e a adicionar chamadas a métodos e propriedades pressionando apenas algumas teclas.\n",
    "\n",
    "----------------------------------------------------------------------------------------------------------------------------"
   ]
  },
  {
   "cell_type": "code",
   "execution_count": 23,
   "metadata": {},
   "outputs": [
    {
     "ename": "SyntaxError",
     "evalue": "invalid syntax (Temp/ipykernel_13020/3254103881.py, line 3)",
     "output_type": "error",
     "traceback": [
      "\u001b[1;36m  File \u001b[1;32m\"C:\\Users\\55479\\AppData\\Local\\Temp/ipykernel_13020/3254103881.py\"\u001b[1;36m, line \u001b[1;32m3\u001b[0m\n\u001b[1;33m    print(Day 1 - String Manipulation\") Falta aspas duplas de Day 1.\u001b[0m\n\u001b[1;37m              ^\u001b[0m\n\u001b[1;31mSyntaxError\u001b[0m\u001b[1;31m:\u001b[0m invalid syntax\n"
     ]
    }
   ],
   "source": [
    "# Exercise 2 - Debugging Practice\n",
    "\n",
    "print(Day 1 - String Manipulation\") Falta aspas duplas de Day 1.\n",
    "print(\"String Concatenation is done with the \"+\" sign.\") # Aqui temos que alterar uma das aspas duplas para simples.\n",
    "  print('e.g. print(\"Hello \" + \"world\")') # Aqui temos uma identação desnecesssária.\n",
    "print((\"New lines can be created with a backslash and n.\") # Aqui tem um parentesis a mais no inicio do print."
   ]
  },
  {
   "cell_type": "code",
   "execution_count": 24,
   "metadata": {},
   "outputs": [
    {
     "name": "stdout",
     "output_type": "stream",
     "text": [
      "Day 1 - String Manipulation\n",
      "String Concatenation is done with the '+' sign.\n",
      "e.g. print(\"Hello \" + \"world\")\n",
      "New lines can be created with a backslash and n.\n"
     ]
    }
   ],
   "source": [
    "# Exercise 2 - Debugging Practice - Correção\n",
    "\n",
    "print(\"Day 1 - String Manipulation\")\n",
    "print(\"String Concatenation is done with the '+' sign.\")\n",
    "print('e.g. print(\"Hello \" + \"world\")')\n",
    "print(\"New lines can be created with a backslash and n.\")"
   ]
  },
  {
   "cell_type": "markdown",
   "metadata": {},
   "source": [
    "A aula 11 (The Python Input Function) fala sobre o uso de funções, cita como exemplo a função print() e demonsta o uso de uma Input Function dentro do Python."
   ]
  },
  {
   "cell_type": "code",
   "execution_count": 26,
   "metadata": {},
   "outputs": [
    {
     "data": {
      "text/plain": [
       "''"
      ]
     },
     "execution_count": 26,
     "metadata": {},
     "output_type": "execute_result"
    }
   ],
   "source": [
    "# Uso da função Input:\n",
    "input(\"What is your name?\")\n",
    "\n",
    "# Não é utilizado em células de um notebook."
   ]
  },
  {
   "cell_type": "markdown",
   "metadata": {},
   "source": [
    "A partir deste ponto (Aula 11) a atividade passou a ser realizada no arquivo Day_1.py!"
   ]
  }
 ],
 "metadata": {
  "interpreter": {
   "hash": "63fd5069d213b44bf678585dea6b12cceca9941eaf7f819626cde1f2670de90d"
  },
  "kernelspec": {
   "display_name": "Python 3.9.5 64-bit",
   "language": "python",
   "name": "python3"
  },
  "language_info": {
   "codemirror_mode": {
    "name": "ipython",
    "version": 3
   },
   "file_extension": ".py",
   "mimetype": "text/x-python",
   "name": "python",
   "nbconvert_exporter": "python",
   "pygments_lexer": "ipython3",
   "version": "3.9.5"
  },
  "orig_nbformat": 4
 },
 "nbformat": 4,
 "nbformat_minor": 2
}
